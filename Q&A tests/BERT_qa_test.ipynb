{
 "metadata": {
  "language_info": {
   "codemirror_mode": {
    "name": "ipython",
    "version": 3
   },
   "file_extension": ".py",
   "mimetype": "text/x-python",
   "name": "python",
   "nbconvert_exporter": "python",
   "pygments_lexer": "ipython3",
   "version": "3.7.9"
  },
  "orig_nbformat": 2,
  "kernelspec": {
   "name": "python379jvsc74a57bd017db98914667091ce8319915150322997de38281694a61c61e6a559ffeacf345",
   "display_name": "Python 3.7.9 64-bit ('pytorchEnv': conda)"
  }
 },
 "nbformat": 4,
 "nbformat_minor": 2,
 "cells": [
  {
   "cell_type": "code",
   "execution_count": 1,
   "metadata": {},
   "outputs": [],
   "source": [
    "from transformers import BertModel\n",
    "\n",
    "model = BertModel.from_pretrained('neuralmind/bert-base-portuguese-cased')"
   ]
  },
  {
   "cell_type": "code",
   "execution_count": 2,
   "metadata": {},
   "outputs": [],
   "source": [
    "from transformers import BertTokenizer\n",
    "\n",
    "tokenizer = BertTokenizer.from_pretrained('neuralmind/bert-base-portuguese-cased')"
   ]
  },
  {
   "cell_type": "code",
   "execution_count": 3,
   "metadata": {},
   "outputs": [],
   "source": [
    "# set question\n",
    "question = \"Quando ocorreu a octagésima reunião do conselho diretor do instituto de informática?\""
   ]
  },
  {
   "cell_type": "code",
   "execution_count": 4,
   "metadata": {},
   "outputs": [
    {
     "output_type": "execute_result",
     "data": {
      "text/plain": [
       "' Ata da 80ª (octogésima) reunião do Conselho Diretor do Instituto de Informática da Universidade Federal de Goiás.. Atas das 78ª e 79ª reuniões ordinárias e das reuniões extraordinárias dos dias 19/04/2006 e 07/06/2006.. Indicação de professor para trabalhar junto a PRODIRH na implantação de software  livre  na  UFG  –  solicitação  do  prof.  Hugo  Alexandre  D.  do Nascimento.. Indicação de professor responsável por evento de software livre durante o Conpeex.. Regulamento de Projeto Final de Curso 1 e 2 – prof. Hugo Alexandre Dantas do Nascimento.. Regulamento Estágio do INF – profa. Nilzete Olímpio Álvares.. Critérios para qualificação do corpo docente – profs. Rommel, Fábio Moreira e Cristiane.. Projetos de Extensão – profs. Cristiane e Sean. Outros. Às quartoze horas e vinte minutos do dia vinte e um de junho do ano de dois mil e seis, na sala 111 do Instituto de Informática, reuniram-se os professores abaixo relacionados para a realização de sessão ordinária do Conselho Diretor do Instituto de Informática: Ana Paula Laboissière Ambrósio na qualidade de presidente da sessão, Cedric Luiz de Carvalho, Cristiane Bastos Rocha Ferreira, Dirson Santos de Campos, Érica de Oliveira Carvalho, Fábio Nogueira de Lucena, Hebert Coelho da Silva, Humberto José Longo, João Carlos da Silva, Juliano Lopes de Oliveira, Lenice Miranda Alves, Lucília Gomes Ribeiro, Márcio Nunes de Miranda, Nilzete Olímpio Álvares, Rommel Melgaço Barbosa, Sean Wolfgand Matsui Siqueira e os representantes discentes André da Cunha  Ribeiro,  Daniel Ribeiro da Silva  e Gustavo Cipriano da Mota. Ao ser constatado o quorum regimental a senhora presidente declara aberta a  sessão.  Primeiro  Assunto.  Diante  da  necessidade  de  reformulação  das  atas  a  serem aprovadas adiou-se o primeiro ponto da pauta. Segundo assunto. A senhora presidente indaga se algum membro do conselho se candidata a ser representante do INF junto à PRODIRH no projeto de implantação de software livre na UFG. Como nenhum conselheiro se candidata, a senhora presidente indica o nome do prof. Juliano. Este, devido ao acúmulo de atribuições, diz não ser possível aceitar a referida indicação. A senhora presidente coloca em votação se é importante para o Instituto ter um representante no referido projeto. Em votação, foi aprovado por 11 votos favoráveis, 3 contrários e 4 abstenções que é importante a participação do Instituto no projeto. Após, a votação a profa. Érica se candidata a ser representante do INF junto à PRODIRH. Em votação, foi aprovado por unanimidade a indicação da profa. Érica para trabalhar junto a PRODIRH a implantação de software livre na UFG. Terceiro Assunto. A senhora presidente abre espaço para os conselheiros se candidatarem a trabalhar no evento de software livre que ocorrerá durante o Conpeex. Nenhum dos membros do conselho se candidata. O prof. Cedric sugere que a indicação ocorra em momento posterior, após maiores esclarecimentos sobre a tarefa a ser desempenhada por essa pessoa. A sugestão foi acatada pelo conselho ficando, portanto, a indicação para a próxima reunião. Quarto Assunto. A profa. Lenice esclarece que o prof. Hugo não pode estar presente na reunião, mas pediu a ela queapresentasse a proposta final do novo regulamento de PFC 1 e 2. A profa. Ana Paula lê a proposta.  Após, as alterações solicitadas pelos conselheiros a proposta foi aprovada por 16 votos favoráveis e 3 abstenções. Quinto Assunto. A senhora presidente informa que a profa. Nilzete não finalizou os trabalhos do regulamento de estágio do INF, ficando o ponto de pauta adiado. Sexto Assunto. A senhora presidente informa que a comissão ainda não apresentou proposta para os critérios de qualificação do corpo docente, por isso o ponto de pauta fica adiado. Sétimo Assunto. A senhora presidente informa que devido ao adiantar da  hora o ponto de pauta fica adiado. Nada  mais havendo  a  tratar,  a senhora  presidente  agradeceu aos presentes e encerrou a sessão da qual eu, Lorena Costa Ribeiro, lavrei a presente ata que, após lida e aprovada, segue assinada pelo senhor presidente e pelos conselheiros presentes à sua discussão e votação. Ana Paula Laboissière Ambrósio  André da Cunha Ribeiro                Auri Marcelo Rizzo Vincenzi         Cedric Luiz de Carvalho  Cristiane Bastos Rocha Ferreira  Deller James Ferreira  Dirson Santos de Campos  Eduardo Simões de Albuquerque  Fábio Moreira Costa  Fábio Nogueira de Lucena   Hebert Coelho da Silva  Hugo Alexandre D. do Nascimento  Humberto José Longo  Juliano Lopes de Oliveira  Lucília Gomes Ribeiro  Márcio Nunes de Miranda   Nilzete Olímpio Álvares   '"
      ]
     },
     "metadata": {},
     "execution_count": 4
    }
   ],
   "source": [
    "# open corpus\n",
    "def openFile(path):\n",
    "    # open file path\n",
    "    my_file = open(path, encoding='utf-8')\n",
    "    # for each line in the file\n",
    "    file_var = \"\"\n",
    "    for line in my_file:\n",
    "        # append line to variable\n",
    "        file_var += line\n",
    "    # return variable\n",
    "    return file_var\n",
    "\n",
    "corpus = openFile(\"D:\\\\Documentos\\\\Tutorials\\\\MachineLearning\\\\tensorflow\\\\docs\\\\txt\\\\80a Reuni+úo.txt\")\n",
    "corpus"
   ]
  },
  {
   "cell_type": "code",
   "execution_count": 5,
   "metadata": {},
   "outputs": [],
   "source": [
    "# create a questions and answers pipeline for the model and t he questions/answers\n",
    "import torch\n",
    "def answer_question(question, answer_text):\n",
    "    '''\n",
    "    Takes a `question` string and an `answer_text` string (which contains the\n",
    "    answer), and identifies the words within the `answer_text` that are the\n",
    "    answer. Prints them out.\n",
    "    '''\n",
    "    # ======== Tokenize ========\n",
    "    # Apply the tokenizer to the input text, treating them as a text-pair.\n",
    "    input_ids = tokenizer.encode(question, answer_text)\n",
    "\n",
    "    # Report how long the input sequence is.\n",
    "    print('Query has {:,} tokens.\\n'.format(len(input_ids)))\n",
    "\n",
    "    # ======== Set Segment IDs ========\n",
    "    # Search the input_ids for the first instance of the `[SEP]` token.\n",
    "    sep_index = input_ids.index(tokenizer.sep_token_id)\n",
    "\n",
    "    # The number of segment A tokens includes the [SEP] token istelf.\n",
    "    num_seg_a = sep_index + 1\n",
    "\n",
    "    # The remainder are segment B.\n",
    "    num_seg_b = len(input_ids) - num_seg_a\n",
    "\n",
    "    # Construct the list of 0s and 1s.\n",
    "    segment_ids = [0]*num_seg_a + [1]*num_seg_b\n",
    "\n",
    "    # There should be a segment_id for every input token.\n",
    "    assert len(segment_ids) == len(input_ids)\n",
    "\n",
    "    # ======== Evaluate ========\n",
    "    # Run our example through the model.\n",
    "    outputs = model(torch.tensor([input_ids]), # The tokens representing our input text.\n",
    "                    token_type_ids=torch.tensor([segment_ids]), # The segment IDs to differentiate question from answer_text\n",
    "                    return_dict=True) \n",
    "\n",
    "    start_scores = outputs.start_logits\n",
    "    end_scores = outputs.end_logits\n",
    "\n",
    "    # ======== Reconstruct Answer ========\n",
    "    # Find the tokens with the highest `start` and `end` scores.\n",
    "    answer_start = torch.argmax(start_scores)\n",
    "    answer_end = torch.argmax(end_scores)\n",
    "\n",
    "    # Get the string versions of the input tokens.\n",
    "    tokens = tokenizer.convert_ids_to_tokens(input_ids)\n",
    "\n",
    "    # Start with the first token.\n",
    "    answer = tokens[answer_start]\n",
    "\n",
    "    # Select the remaining answer tokens and join them with whitespace.\n",
    "    for i in range(answer_start + 1, answer_end + 1):\n",
    "        \n",
    "        # If it's a subword token, then recombine it with the previous token.\n",
    "        if tokens[i][0:2] == '##':\n",
    "            answer += tokens[i][2:]\n",
    "        \n",
    "        # Otherwise, add a space then the token.\n",
    "        else:\n",
    "            answer += ' ' + tokens[i]\n",
    "\n",
    "    return 'Answer: \"' + answer + '\"'"
   ]
  },
  {
   "cell_type": "code",
   "execution_count": 6,
   "metadata": {},
   "outputs": [
    {
     "output_type": "stream",
     "name": "stdout",
     "text": [
      " Ata da 80ª (octogésima) reunião do Conselho Diretor do Instituto de Informática\nda Universidade Federal de Goiás.. Atas das 78ª e 79ª reuniões ordinárias e das\nreuniões extraordinárias dos dias 19/04/2006 e 07/06/2006.. Indicação de\nprofessor para trabalhar junto a PRODIRH na implantação de software  livre  na\nUFG  –  solicitação  do  prof.  Hugo  Alexandre  D.  do Nascimento.. Indicação\nde professor responsável por evento de software livre durante o Conpeex..\nRegulamento de Projeto Final de Curso 1 e 2 – prof. Hugo Alexandre Dantas do\nNascimento.. Regulamento Estágio do INF – profa. Nilzete Olímpio Álvares..\nCritérios para qualificação do corpo docente – profs. Rommel, Fábio Moreira e\nCristiane.. Projetos de Extensão – profs. Cristiane e Sean. Outros. Às quartoze\nhoras e vinte minutos do dia vinte e um de junho do ano de dois mil e seis, na\nsala 111 do Instituto de Informática, reuniram-se os professores abaixo\nrelacionados para a realização de sessão ordinária do Conselho Diretor do\nInstituto de Informática: Ana Paula Laboissière Ambrósio na qualidade de\npresidente da sessão, Cedric Luiz de Carvalho, Cristiane Bastos Rocha Ferreira,\nDirson Santos de Campos, Érica de Oliveira Carvalho, Fábio Nogueira de Lucena,\nHebert Coelho da Silva, Humberto José Longo, João Carlos da Silva, Juliano Lopes\nde Oliveira, Lenice Miranda Alves, Lucília Gomes Ribeiro, Márcio Nunes de\nMiranda, Nilzete Olímpio Álvares, Rommel Melgaço Barbosa, Sean Wolfgand Matsui\nSiqueira e os representantes discentes André da Cunha  Ribeiro,  Daniel Ribeiro\nda Silva  e Gustavo Cipriano da Mota. Ao ser constatado o quorum regimental a\nsenhora presidente declara aberta a  sessão.  Primeiro  Assunto.  Diante  da\nnecessidade  de  reformulação  das  atas  a  serem aprovadas adiou-se o primeiro\nponto da pauta. Segundo assunto. A senhora presidente indaga se algum membro do\nconselho se candidata a ser representante do INF junto à PRODIRH no projeto de\nimplantação de software livre na UFG. Como nenhum conselheiro se candidata, a\nsenhora presidente indica o nome do prof. Juliano. Este, devido ao acúmulo de\natribuições, diz não ser possível aceitar a referida indicação. A senhora\npresidente coloca em votação se é importante para o Instituto ter um\nrepresentante no referido projeto. Em votação, foi aprovado por 11 votos\nfavoráveis, 3 contrários e 4 abstenções que é importante a participação do\nInstituto no projeto. Após, a votação a profa. Érica se candidata a ser\nrepresentante do INF junto à PRODIRH. Em votação, foi aprovado por unanimidade a\nindicação da profa. Érica para trabalhar junto a PRODIRH a implantação de\nsoftware livre na UFG. Terceiro Assunto. A senhora presidente abre espaço para\nos conselheiros se candidatarem a trabalhar no evento de software livre que\nocorrerá durante o Conpeex. Nenhum dos membros do conselho se candidata. O prof.\nCedric sugere que a indicação ocorra em momento posterior, após maiores\nesclarecimentos sobre a tarefa a ser desempenhada por essa pessoa. A sugestão\nfoi acatada pelo conselho ficando, portanto, a indicação para a próxima reunião.\nQuarto Assunto. A profa. Lenice esclarece que o prof. Hugo não pode estar\npresente na reunião, mas pediu a ela queapresentasse a proposta final do novo\nregulamento de PFC 1 e 2. A profa. Ana Paula lê a proposta.  Após, as alterações\nsolicitadas pelos conselheiros a proposta foi aprovada por 16 votos favoráveis e\n3 abstenções. Quinto Assunto. A senhora presidente informa que a profa. Nilzete\nnão finalizou os trabalhos do regulamento de estágio do INF, ficando o ponto de\npauta adiado. Sexto Assunto. A senhora presidente informa que a comissão ainda\nnão apresentou proposta para os critérios de qualificação do corpo docente, por\nisso o ponto de pauta fica adiado. Sétimo Assunto. A senhora presidente informa\nque devido ao adiantar da  hora o ponto de pauta fica adiado. Nada  mais havendo\na  tratar,  a senhora  presidente  agradeceu aos presentes e encerrou a sessão\nda qual eu, Lorena Costa Ribeiro, lavrei a presente ata que, após lida e\naprovada, segue assinada pelo senhor presidente e pelos conselheiros presentes à\nsua discussão e votação. Ana Paula Laboissière Ambrósio  André da Cunha Ribeiro\nAuri Marcelo Rizzo Vincenzi         Cedric Luiz de Carvalho  Cristiane Bastos\nRocha Ferreira  Deller James Ferreira  Dirson Santos de Campos  Eduardo Simões\nde Albuquerque  Fábio Moreira Costa  Fábio Nogueira de Lucena   Hebert Coelho da\nSilva  Hugo Alexandre D. do Nascimento  Humberto José Longo  Juliano Lopes de\nOliveira  Lucília Gomes Ribeiro  Márcio Nunes de Miranda   Nilzete Olímpio\nÁlvares\n"
     ]
    }
   ],
   "source": [
    "# format corpus for the model\n",
    "import textwrap\n",
    "\n",
    "# Wrap text to 80 characters.\n",
    "wrapper = textwrap.TextWrapper(width=80)\n",
    "\n",
    "f_corpus = wrapper.fill(corpus)\n",
    "print(f_corpus)"
   ]
  },
  {
   "cell_type": "code",
   "execution_count": 7,
   "metadata": {},
   "outputs": [
    {
     "output_type": "stream",
     "name": "stdout",
     "text": [
      "Query has 1,028 tokens.\n\n"
     ]
    },
    {
     "output_type": "error",
     "ename": "RuntimeError",
     "evalue": "The size of tensor a (1028) must match the size of tensor b (512) at non-singleton dimension 1",
     "traceback": [
      "\u001b[1;31m---------------------------------------------------------------------------\u001b[0m",
      "\u001b[1;31mRuntimeError\u001b[0m                              Traceback (most recent call last)",
      "\u001b[1;32m<ipython-input-7-e2e06ae7df53>\u001b[0m in \u001b[0;36m<module>\u001b[1;34m\u001b[0m\n\u001b[0;32m      1\u001b[0m \u001b[1;31m# run question on cf_corpus\u001b[0m\u001b[1;33m\u001b[0m\u001b[1;33m\u001b[0m\u001b[1;33m\u001b[0m\u001b[0m\n\u001b[1;32m----> 2\u001b[1;33m \u001b[0manswer_question\u001b[0m\u001b[1;33m(\u001b[0m\u001b[0mquestion\u001b[0m\u001b[1;33m,\u001b[0m \u001b[0mcorpus\u001b[0m\u001b[1;33m)\u001b[0m\u001b[1;33m\u001b[0m\u001b[1;33m\u001b[0m\u001b[0m\n\u001b[0m",
      "\u001b[1;32m<ipython-input-5-f02df5d903ca>\u001b[0m in \u001b[0;36manswer_question\u001b[1;34m(question, answer_text)\u001b[0m\n\u001b[0;32m     34\u001b[0m     outputs = model(torch.tensor([input_ids]), # The tokens representing our input text.\n\u001b[0;32m     35\u001b[0m                     \u001b[0mtoken_type_ids\u001b[0m\u001b[1;33m=\u001b[0m\u001b[0mtorch\u001b[0m\u001b[1;33m.\u001b[0m\u001b[0mtensor\u001b[0m\u001b[1;33m(\u001b[0m\u001b[1;33m[\u001b[0m\u001b[0msegment_ids\u001b[0m\u001b[1;33m]\u001b[0m\u001b[1;33m)\u001b[0m\u001b[1;33m,\u001b[0m \u001b[1;31m# The segment IDs to differentiate question from answer_text\u001b[0m\u001b[1;33m\u001b[0m\u001b[1;33m\u001b[0m\u001b[0m\n\u001b[1;32m---> 36\u001b[1;33m                     return_dict=True) \n\u001b[0m\u001b[0;32m     37\u001b[0m \u001b[1;33m\u001b[0m\u001b[0m\n\u001b[0;32m     38\u001b[0m     \u001b[0mstart_scores\u001b[0m \u001b[1;33m=\u001b[0m \u001b[0moutputs\u001b[0m\u001b[1;33m.\u001b[0m\u001b[0mstart_logits\u001b[0m\u001b[1;33m\u001b[0m\u001b[1;33m\u001b[0m\u001b[0m\n",
      "\u001b[1;32m~\\anaconda3\\envs\\pytorchEnv\\lib\\site-packages\\torch\\nn\\modules\\module.py\u001b[0m in \u001b[0;36m_call_impl\u001b[1;34m(self, *input, **kwargs)\u001b[0m\n\u001b[0;32m    720\u001b[0m             \u001b[0mresult\u001b[0m \u001b[1;33m=\u001b[0m \u001b[0mself\u001b[0m\u001b[1;33m.\u001b[0m\u001b[0m_slow_forward\u001b[0m\u001b[1;33m(\u001b[0m\u001b[1;33m*\u001b[0m\u001b[0minput\u001b[0m\u001b[1;33m,\u001b[0m \u001b[1;33m**\u001b[0m\u001b[0mkwargs\u001b[0m\u001b[1;33m)\u001b[0m\u001b[1;33m\u001b[0m\u001b[1;33m\u001b[0m\u001b[0m\n\u001b[0;32m    721\u001b[0m         \u001b[1;32melse\u001b[0m\u001b[1;33m:\u001b[0m\u001b[1;33m\u001b[0m\u001b[1;33m\u001b[0m\u001b[0m\n\u001b[1;32m--> 722\u001b[1;33m             \u001b[0mresult\u001b[0m \u001b[1;33m=\u001b[0m \u001b[0mself\u001b[0m\u001b[1;33m.\u001b[0m\u001b[0mforward\u001b[0m\u001b[1;33m(\u001b[0m\u001b[1;33m*\u001b[0m\u001b[0minput\u001b[0m\u001b[1;33m,\u001b[0m \u001b[1;33m**\u001b[0m\u001b[0mkwargs\u001b[0m\u001b[1;33m)\u001b[0m\u001b[1;33m\u001b[0m\u001b[1;33m\u001b[0m\u001b[0m\n\u001b[0m\u001b[0;32m    723\u001b[0m         for hook in itertools.chain(\n\u001b[0;32m    724\u001b[0m                 \u001b[0m_global_forward_hooks\u001b[0m\u001b[1;33m.\u001b[0m\u001b[0mvalues\u001b[0m\u001b[1;33m(\u001b[0m\u001b[1;33m)\u001b[0m\u001b[1;33m,\u001b[0m\u001b[1;33m\u001b[0m\u001b[1;33m\u001b[0m\u001b[0m\n",
      "\u001b[1;32m~\\anaconda3\\envs\\pytorchEnv\\lib\\site-packages\\transformers\\models\\bert\\modeling_bert.py\u001b[0m in \u001b[0;36mforward\u001b[1;34m(self, input_ids, attention_mask, token_type_ids, position_ids, head_mask, inputs_embeds, encoder_hidden_states, encoder_attention_mask, past_key_values, use_cache, output_attentions, output_hidden_states, return_dict)\u001b[0m\n\u001b[0;32m    967\u001b[0m             \u001b[0mtoken_type_ids\u001b[0m\u001b[1;33m=\u001b[0m\u001b[0mtoken_type_ids\u001b[0m\u001b[1;33m,\u001b[0m\u001b[1;33m\u001b[0m\u001b[1;33m\u001b[0m\u001b[0m\n\u001b[0;32m    968\u001b[0m             \u001b[0minputs_embeds\u001b[0m\u001b[1;33m=\u001b[0m\u001b[0minputs_embeds\u001b[0m\u001b[1;33m,\u001b[0m\u001b[1;33m\u001b[0m\u001b[1;33m\u001b[0m\u001b[0m\n\u001b[1;32m--> 969\u001b[1;33m             \u001b[0mpast_key_values_length\u001b[0m\u001b[1;33m=\u001b[0m\u001b[0mpast_key_values_length\u001b[0m\u001b[1;33m,\u001b[0m\u001b[1;33m\u001b[0m\u001b[1;33m\u001b[0m\u001b[0m\n\u001b[0m\u001b[0;32m    970\u001b[0m         )\n\u001b[0;32m    971\u001b[0m         encoder_outputs = self.encoder(\n",
      "\u001b[1;32m~\\anaconda3\\envs\\pytorchEnv\\lib\\site-packages\\torch\\nn\\modules\\module.py\u001b[0m in \u001b[0;36m_call_impl\u001b[1;34m(self, *input, **kwargs)\u001b[0m\n\u001b[0;32m    720\u001b[0m             \u001b[0mresult\u001b[0m \u001b[1;33m=\u001b[0m \u001b[0mself\u001b[0m\u001b[1;33m.\u001b[0m\u001b[0m_slow_forward\u001b[0m\u001b[1;33m(\u001b[0m\u001b[1;33m*\u001b[0m\u001b[0minput\u001b[0m\u001b[1;33m,\u001b[0m \u001b[1;33m**\u001b[0m\u001b[0mkwargs\u001b[0m\u001b[1;33m)\u001b[0m\u001b[1;33m\u001b[0m\u001b[1;33m\u001b[0m\u001b[0m\n\u001b[0;32m    721\u001b[0m         \u001b[1;32melse\u001b[0m\u001b[1;33m:\u001b[0m\u001b[1;33m\u001b[0m\u001b[1;33m\u001b[0m\u001b[0m\n\u001b[1;32m--> 722\u001b[1;33m             \u001b[0mresult\u001b[0m \u001b[1;33m=\u001b[0m \u001b[0mself\u001b[0m\u001b[1;33m.\u001b[0m\u001b[0mforward\u001b[0m\u001b[1;33m(\u001b[0m\u001b[1;33m*\u001b[0m\u001b[0minput\u001b[0m\u001b[1;33m,\u001b[0m \u001b[1;33m**\u001b[0m\u001b[0mkwargs\u001b[0m\u001b[1;33m)\u001b[0m\u001b[1;33m\u001b[0m\u001b[1;33m\u001b[0m\u001b[0m\n\u001b[0m\u001b[0;32m    723\u001b[0m         for hook in itertools.chain(\n\u001b[0;32m    724\u001b[0m                 \u001b[0m_global_forward_hooks\u001b[0m\u001b[1;33m.\u001b[0m\u001b[0mvalues\u001b[0m\u001b[1;33m(\u001b[0m\u001b[1;33m)\u001b[0m\u001b[1;33m,\u001b[0m\u001b[1;33m\u001b[0m\u001b[1;33m\u001b[0m\u001b[0m\n",
      "\u001b[1;32m~\\anaconda3\\envs\\pytorchEnv\\lib\\site-packages\\transformers\\models\\bert\\modeling_bert.py\u001b[0m in \u001b[0;36mforward\u001b[1;34m(self, input_ids, token_type_ids, position_ids, inputs_embeds, past_key_values_length)\u001b[0m\n\u001b[0;32m    205\u001b[0m         \u001b[1;32mif\u001b[0m \u001b[0mself\u001b[0m\u001b[1;33m.\u001b[0m\u001b[0mposition_embedding_type\u001b[0m \u001b[1;33m==\u001b[0m \u001b[1;34m\"absolute\"\u001b[0m\u001b[1;33m:\u001b[0m\u001b[1;33m\u001b[0m\u001b[1;33m\u001b[0m\u001b[0m\n\u001b[0;32m    206\u001b[0m             \u001b[0mposition_embeddings\u001b[0m \u001b[1;33m=\u001b[0m \u001b[0mself\u001b[0m\u001b[1;33m.\u001b[0m\u001b[0mposition_embeddings\u001b[0m\u001b[1;33m(\u001b[0m\u001b[0mposition_ids\u001b[0m\u001b[1;33m)\u001b[0m\u001b[1;33m\u001b[0m\u001b[1;33m\u001b[0m\u001b[0m\n\u001b[1;32m--> 207\u001b[1;33m             \u001b[0membeddings\u001b[0m \u001b[1;33m+=\u001b[0m \u001b[0mposition_embeddings\u001b[0m\u001b[1;33m\u001b[0m\u001b[1;33m\u001b[0m\u001b[0m\n\u001b[0m\u001b[0;32m    208\u001b[0m         \u001b[0membeddings\u001b[0m \u001b[1;33m=\u001b[0m \u001b[0mself\u001b[0m\u001b[1;33m.\u001b[0m\u001b[0mLayerNorm\u001b[0m\u001b[1;33m(\u001b[0m\u001b[0membeddings\u001b[0m\u001b[1;33m)\u001b[0m\u001b[1;33m\u001b[0m\u001b[1;33m\u001b[0m\u001b[0m\n\u001b[0;32m    209\u001b[0m         \u001b[0membeddings\u001b[0m \u001b[1;33m=\u001b[0m \u001b[0mself\u001b[0m\u001b[1;33m.\u001b[0m\u001b[0mdropout\u001b[0m\u001b[1;33m(\u001b[0m\u001b[0membeddings\u001b[0m\u001b[1;33m)\u001b[0m\u001b[1;33m\u001b[0m\u001b[1;33m\u001b[0m\u001b[0m\n",
      "\u001b[1;31mRuntimeError\u001b[0m: The size of tensor a (1028) must match the size of tensor b (512) at non-singleton dimension 1"
     ]
    }
   ],
   "source": [
    "# run question on cf_corpus\n",
    "answer_question(question, corpus)"
   ]
  },
  {
   "cell_type": "code",
   "execution_count": null,
   "metadata": {},
   "outputs": [],
   "source": []
  }
 ]
}